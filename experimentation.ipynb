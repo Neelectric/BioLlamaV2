{
 "cells": [
  {
   "cell_type": "code",
   "execution_count": 1,
   "metadata": {},
   "outputs": [
    {
     "name": "stdout",
     "output_type": "stream",
     "text": [
      "started script\n"
     ]
    },
    {
     "name": "stdout",
     "output_type": "stream",
     "text": [
      "imported...\n"
     ]
    },
    {
     "data": {
      "application/vnd.jupyter.widget-view+json": {
       "model_id": "314bd6e7d3a14a3c85f36d093edb7942",
       "version_major": 2,
       "version_minor": 0
      },
      "text/plain": [
       "Loading checkpoint shards:   0%|          | 0/2 [00:00<?, ?it/s]"
      ]
     },
     "metadata": {},
     "output_type": "display_data"
    },
    {
     "name": "stdout",
     "output_type": "stream",
     "text": [
      "model loaded!\n"
     ]
    }
   ],
   "source": [
    "print(\"started script\")\n",
    "from transformers import AutoModelForCausalLM, AutoTokenizer\n",
    "import torch\n",
    "print(\"imported...\")\n",
    "\n",
    "tokenizer = AutoTokenizer.from_pretrained(\"meta-llama/Llama-2-7b-chat-hf\")\n",
    "model = AutoModelForCausalLM.from_pretrained(\"meta-llama/Llama-2-7b-chat-hf\", device_map = \"auto\")\n",
    "\n",
    "print(\"model loaded!\")"
   ]
  },
  {
   "cell_type": "code",
   "execution_count": 12,
   "metadata": {},
   "outputs": [
    {
     "name": "stdout",
     "output_type": "stream",
     "text": [
      "\n",
      "Question.\n",
      "Low insulin to glucagon ratio is seen in all of these except:\n",
      "(A) Glycogen synthesis\n",
      "(B) Glycogen breakdown\n",
      "(C) Gluconeogenesis\n",
      "(D) Ketogenesis\n",
      "Answer.\n",
      "(C) Gluconeogenesis\n",
      "\n",
      "Explanation:\n",
      "A low insulin to glucagon ratio is seen in conditions of insulin resistance, such as type 2 diabetes. In these conditions, the body's cells become less responsive to insulin, leading to high blood glucose levels. Gluconeogenesis is the production of glucose from non-carbohydrate sources, such as lactate, glycerol, and the amino acids. Therefore, option (C) Gluconeogenesis is the correct answer.\n",
      "\n",
      "Option (A) Glycogen synthesis is the process of forming glycogen from glucose, and is stimulated by insulin. Therefore, a low insulin to glucagon ratio would not lead to an increase in glycogen synthesis.\n",
      "\n",
      "Option (B) Glycogen breakdown is the process of breaking down glycogen into glucose, and is inhibited by insulin. Therefore, a low insulin to glucagon ratio would not lead to an increase in glycogen breakdown.\n",
      "\n",
      "Option (D) Ketogenesis is the production of ketone bodies from fatty acids, and is not related to the insulin to glucagon ratio. Therefore, this option is not a correct answer.\n",
      "output has length 370\n",
      "newly generated 304\n"
     ]
    }
   ],
   "source": [
    "from time import time\n",
    "max_new_tokens = 400\n",
    "prompt = \"In the era of generative AI, \"\n",
    "medmcqa2 = \"\"\"\n",
    "Question.\n",
    "Low insulin to glucagon ratio is seen in all of these except:\n",
    "(A) Glycogen synthesis\n",
    "(B) Glycogen breakdown\n",
    "(C) Gluconeogenesis\n",
    "(D) Ketogenesis\n",
    "Answer.\n",
    "\"\"\"\n",
    "tokenized_prompt = tokenizer.encode(medmcqa2, return_tensors = \"pt\").to('cuda')\n",
    "raw_output = model.generate(tokenized_prompt,\n",
    "                            max_new_tokens = max_new_tokens,\n",
    "                            temperature = 0.01)\n",
    "untokenized_output = tokenizer.decode(raw_output[0], skip_special_tokens = True)\n",
    "print(untokenized_output)\n",
    "print(f\"output has length {len(raw_output[0])}\")\n",
    "print(f\"newly generated {len(raw_output[0]) - len(tokenized_prompt[0])}\")"
   ]
  },
  {
   "cell_type": "code",
   "execution_count": null,
   "metadata": {},
   "outputs": [],
   "source": [
    "medmcqa = \"\"\"\n",
    "Question:\n",
    "Axonal transport is:\n",
    "(A) Antegrade\n",
    "(B) Retrograde\n",
    "(C) Antegrade and retrograde\n",
    "(D) None\n",
    "Answer: Let's reflect on each response individually, without choosing whether it is correct yet. Then, discuss the responses in relation to the question, hypothesizing on whether it might be the right answer. Finally choose one from these candidates after considering them carefully.\n",
    "\"\"\""
   ]
  }
 ],
 "metadata": {
  "kernelspec": {
   "display_name": "Python 3",
   "language": "python",
   "name": "python3"
  },
  "language_info": {
   "codemirror_mode": {
    "name": "ipython",
    "version": 3
   },
   "file_extension": ".py",
   "mimetype": "text/x-python",
   "name": "python",
   "nbconvert_exporter": "python",
   "pygments_lexer": "ipython3",
   "version": "3.10.13"
  }
 },
 "nbformat": 4,
 "nbformat_minor": 2
}
